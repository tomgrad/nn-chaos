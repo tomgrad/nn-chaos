{
 "cells": [
  {
   "cell_type": "markdown",
   "metadata": {},
   "source": [
    "# Chaos deterministyczny w sieciach neuronowych\n",
    "## dr inż. Tomasz Gradowski\n",
    "tomasz.gradowski@pw.edu.pl\n",
    "\n",
    "Wydział Fizyki PW\n",
    "\n",
    "Zakład Fizyki Układów Złożonych\n",
    "\n",
    "Pracownia Dynamiki Nieliniowej Układów Dyskretnych"
   ]
  },
  {
   "cell_type": "markdown",
   "metadata": {},
   "source": [
    "## Prezentacja dostępna w repozytorium:\n",
    "\n",
    "[github.com/tomgrad/nn-chaos](https://github.com/tomgrad/nn-chaos)"
   ]
  },
  {
   "cell_type": "markdown",
   "metadata": {},
   "source": [
    "# Plan prezentacji\n",
    "- Przykład 1: układ dwóch neuronów McCullocha-Pittsa\n",
    "- Chaos deterministyczny - wstęp, odwzorowanie logistyczne, bifurkacje, drogi do chaosu\n",
    "- Przykład 2: sieć neuronowa z pobudzeniem periodycznym. Quasi-periodyczność. Bifurkacja Hopfa.\n",
    "- Przykład 3: model neuronu Adachiego-Aihary. Chaotyczna pamięć asocjacyjna."
   ]
  },
  {
   "cell_type": "markdown",
   "metadata": {},
   "source": [
    "# Literatura\n",
    "\n",
    "- [R. Kosiński, *Sztuczne sieci neuronowe. Dynamika nieliniowa i chaos*, WNT 2008](https://ksiegarnia.pwn.pl/Sztuczne-sieci-neuronowe,736372029,p.html)\n",
    "- [N. Boccara, *Modeling Complex Systems*, Springer 2010](https://www.springer.com/gp/book/9781441965615)\n",
    "- [H.G. Schuster, *Deterministic Chaos: An Introduction*, Wiley‐VCH 2005](https://onlinelibrary.wiley.com/doi/book/10.1002/3527604804)\n",
    "- [E. Ott, *Chaos in Dynamical Systems*, Cambridge 2002](https://www.cambridge.org/core/books/chaos-in-dynamical-systems/7A0749AE3FBBF4312A54D7573C2DAAB5)\n",
    "- [K. Aihara, M. Adachi, *Associative Dynamics in a Chaotic Neural Network*, Neural Netw. **10** (2007)](https://doi.org/10.1016/S0893-6080(96)00061-5)\n",
    "- [Y. Hirata, M. Oku, K. Aihara, *Chaos in neurons and its application: Perspective of chaos engineering*, Chaos **22**, 047511 (2012)](https://doi.org/10.1063/1.4738191)\n",
    "- [R.A. Kosiński, A. Krawiecki, A. Sukiennicki, *Chaotic Dynamics of a Linear Chain of Periodically Stimulated Neurons with Random Synaptic Connections*, Acta Phys. Polon A **100** (2001)](http://dx.doi.org/10.12693/APhysPolA.100.89)\n",
    "\n"
   ]
  }
 ],
 "metadata": {
  "kernelspec": {
   "display_name": "Julia 1.1.0",
   "language": "julia",
   "name": "julia-1.1"
  },
  "language_info": {
   "file_extension": ".jl",
   "mimetype": "application/julia",
   "name": "julia",
   "version": "1.1.0"
  }
 },
 "nbformat": 4,
 "nbformat_minor": 2
}

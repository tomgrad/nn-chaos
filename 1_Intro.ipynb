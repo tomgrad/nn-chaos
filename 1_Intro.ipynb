{
 "cells": [
  {
   "cell_type": "markdown",
   "metadata": {},
   "source": [
    "# Chaos deterministyczny w sieciach neuronowych\n",
    "## dr inż. Tomasz Gradowski\n",
    "tomasz.gradowski@pw.edu.pl\n",
    "\n",
    "Wydział Fizyki PW\n",
    "\n",
    "Zakład Fizyki Układów Złożonych\n",
    "\n",
    "Pracownia Dynamiki Nieliniowej Układów Dyskretnych"
   ]
  },
  {
   "cell_type": "markdown",
   "metadata": {},
   "source": [
    "## Prezentacja dostępna w repozytorium:\n",
    "\n",
    "[github.com/tomgrad/nn-chaos](https://github.com/tomgrad/nn-chaos)"
   ]
  },
  {
   "cell_type": "markdown",
   "metadata": {},
   "source": [
    "# Plan prezentacji\n",
    "- Przykład 1: układ dwóch neuronów McCullocha-Pittsa\n",
    "- Chaos deterministyczny - wstęp, odwzorowanie logistyczne, bifurkacje, drogi do chaosu\n",
    "- Przykład 2: sieć neuronowa z pobudzeniem periodycznym. Quasi-periodyczność. Bifurkacja Hopfa.\n",
    "- Przykład 3: model neuronu Adachiego-Aihary. Chaotyczna pamięć asocjacyjna."
   ]
  }
 ],
 "metadata": {
  "kernelspec": {
   "display_name": "Julia 1.1.0",
   "language": "julia",
   "name": "julia-1.1"
  },
  "language_info": {
   "file_extension": ".jl",
   "mimetype": "application/julia",
   "name": "julia",
   "version": "1.1.0"
  }
 },
 "nbformat": 4,
 "nbformat_minor": 2
}
